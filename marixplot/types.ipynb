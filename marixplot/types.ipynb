import seaborn as sns
import matplotlib.pyplot as plt
import scipy

flights=sns.load_dataset('flights')

tips=sns.load_dataset('tips')
tips

tips_corr=tips[['total_bill','tip','size']]
tips_corr.corr()
sns.heatmap(tips_corr.corr(),annot=True)
sns.clustermap(tips_corr.corr())
plt.show()
plt.show()